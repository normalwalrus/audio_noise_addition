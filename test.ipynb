{
 "cells": [
  {
   "cell_type": "code",
   "execution_count": 1,
   "metadata": {},
   "outputs": [
    {
     "name": "stdout",
     "output_type": "stream",
     "text": [
      "(tensor([[ 0.0000,  0.0000,  0.0000,  ..., -0.0005, -0.0005, -0.0004],\n",
      "        [ 0.0000,  0.0000,  0.0000,  ..., -0.0006, -0.0006, -0.0004]]), 44100)\n"
     ]
    }
   ],
   "source": [
    "from utils.config import get_configs\n",
    "from utils.noiser import add_noise, add_chatter\n",
    "\n",
    "configs = get_configs('config.json')\n",
    "\n",
    "add_noise(configs['audio_path'], configs['noised_save_path'], configs['noise_STD'], configs['sample_rate'])"
   ]
  },
  {
   "cell_type": "code",
   "execution_count": null,
   "metadata": {},
   "outputs": [],
   "source": []
  }
 ],
 "metadata": {
  "language_info": {
   "name": "python"
  },
  "orig_nbformat": 4
 },
 "nbformat": 4,
 "nbformat_minor": 2
}
